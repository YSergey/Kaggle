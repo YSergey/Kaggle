{
 "cells": [
  {
   "cell_type": "code",
   "execution_count": 22,
   "metadata": {},
   "outputs": [],
   "source": [
    "import os\n",
    "\n",
    "dataset_dir = '/Volumes/KESU/Diabetic_Detection'\n",
    "base_dir = os.path.join(dataset_dir, 'dataset')\n",
    "os.mkdir(base_dir)\n",
    "\n",
    "train_dir = os.path.join(base_dir, 'train')\n",
    "os.mkdir(train_dir)\n",
    "\n",
    "val_dir = os.path.join(base_dir, 'validation')\n",
    "os.mkdir(val_dir)"
   ]
  },
  {
   "cell_type": "code",
   "execution_count": 23,
   "metadata": {
    "collapsed": true
   },
   "outputs": [],
   "source": [
    "fnames_left = ['{}_left.jpg'.format(i) for i in range(44349)]\n",
    "fnames_right = ['{}_right.jpg'.format(i) for i in range(44349)]"
   ]
  },
  {
   "cell_type": "code",
   "execution_count": 24,
   "metadata": {},
   "outputs": [
    {
     "ename": "SyntaxError",
     "evalue": "invalid syntax (<ipython-input-24-7a2f081c43d6>, line 13)",
     "output_type": "error",
     "traceback": [
      "\u001b[0;36m  File \u001b[0;32m\"<ipython-input-24-7a2f081c43d6>\"\u001b[0;36m, line \u001b[0;32m13\u001b[0m\n\u001b[0;31m    src = os.path.join('/Volumes/KESU/Diabetic_Detection/train',, f)\u001b[0m\n\u001b[0m                                                                ^\u001b[0m\n\u001b[0;31mSyntaxError\u001b[0m\u001b[0;31m:\u001b[0m invalid syntax\n"
     ]
    }
   ],
   "source": [
    "#重複を許さず、猫ファイル名を取得\n",
    "train_left_dir = os.path.join(train_dir, 'left')\n",
    "os.mkdir(train_left)\n",
    "\n",
    "validation_left_dir = os.path.join(val_dir, 'left')\n",
    "os.mkdir(validation_left_dir)\n",
    "\n",
    "import random, shutil\n",
    "\n",
    "for f in fnames_left:\n",
    "    if random.random() >= 0.2: \n",
    "        # 学習用フォルダへ移動\n",
    "        src = os.path.join('/Volumes/KESU/Diabetic_Detection/train',, f)\n",
    "        dst = os.path.join(train_left_dir,f)\n",
    "        shutil.copy(src,dst)\n",
    "    else:                      \n",
    "        # dir2へ移動\n",
    "        src = os.path.join( '/Volumes/KESU/Diabetic_Detection/train',f)\n",
    "        dst = os.path.join(validation_left_dir,f)\n",
    "        shutil.copy(src,dst)"
   ]
  },
  {
   "cell_type": "code",
   "execution_count": null,
   "metadata": {
    "collapsed": true
   },
   "outputs": [],
   "source": []
  },
  {
   "cell_type": "code",
   "execution_count": null,
   "metadata": {
    "collapsed": true
   },
   "outputs": [],
   "source": []
  },
  {
   "cell_type": "code",
   "execution_count": null,
   "metadata": {
    "collapsed": true
   },
   "outputs": [],
   "source": []
  }
 ],
 "metadata": {
  "kernelspec": {
   "display_name": "Python 3",
   "language": "python",
   "name": "python3"
  },
  "language_info": {
   "codemirror_mode": {
    "name": "ipython",
    "version": 3
   },
   "file_extension": ".py",
   "mimetype": "text/x-python",
   "name": "python",
   "nbconvert_exporter": "python",
   "pygments_lexer": "ipython3",
   "version": "3.6.4"
  }
 },
 "nbformat": 4,
 "nbformat_minor": 2
}
