{
 "cells": [
  {
   "cell_type": "code",
   "execution_count": 137,
   "metadata": {},
   "outputs": [
    {
     "data": {
      "text/html": [
       "<div>\n",
       "<style scoped>\n",
       "    .dataframe tbody tr th:only-of-type {\n",
       "        vertical-align: middle;\n",
       "    }\n",
       "\n",
       "    .dataframe tbody tr th {\n",
       "        vertical-align: top;\n",
       "    }\n",
       "\n",
       "    .dataframe thead th {\n",
       "        text-align: right;\n",
       "    }\n",
       "</style>\n",
       "<table border=\"1\" class=\"dataframe\">\n",
       "  <thead>\n",
       "    <tr style=\"text-align: right;\">\n",
       "      <th></th>\n",
       "      <th>action_type</th>\n",
       "      <th>combined_shot_type</th>\n",
       "      <th>game_event_id</th>\n",
       "      <th>game_id</th>\n",
       "      <th>lat</th>\n",
       "      <th>loc_x</th>\n",
       "      <th>loc_y</th>\n",
       "      <th>lon</th>\n",
       "      <th>minutes_remaining</th>\n",
       "      <th>period</th>\n",
       "      <th>...</th>\n",
       "      <th>shot_type</th>\n",
       "      <th>shot_zone_area</th>\n",
       "      <th>shot_zone_basic</th>\n",
       "      <th>shot_zone_range</th>\n",
       "      <th>team_id</th>\n",
       "      <th>team_name</th>\n",
       "      <th>game_date</th>\n",
       "      <th>matchup</th>\n",
       "      <th>opponent</th>\n",
       "      <th>shot_id</th>\n",
       "    </tr>\n",
       "  </thead>\n",
       "  <tbody>\n",
       "    <tr>\n",
       "      <th>0</th>\n",
       "      <td>Jump Shot</td>\n",
       "      <td>Jump Shot</td>\n",
       "      <td>10</td>\n",
       "      <td>20000012</td>\n",
       "      <td>33.9723</td>\n",
       "      <td>167</td>\n",
       "      <td>72</td>\n",
       "      <td>-118.1028</td>\n",
       "      <td>10</td>\n",
       "      <td>1</td>\n",
       "      <td>...</td>\n",
       "      <td>2PT Field Goal</td>\n",
       "      <td>Right Side(R)</td>\n",
       "      <td>Mid-Range</td>\n",
       "      <td>16-24 ft.</td>\n",
       "      <td>1610612747</td>\n",
       "      <td>Los Angeles Lakers</td>\n",
       "      <td>2000-10-31</td>\n",
       "      <td>LAL @ POR</td>\n",
       "      <td>POR</td>\n",
       "      <td>1</td>\n",
       "    </tr>\n",
       "    <tr>\n",
       "      <th>1</th>\n",
       "      <td>Jump Shot</td>\n",
       "      <td>Jump Shot</td>\n",
       "      <td>12</td>\n",
       "      <td>20000012</td>\n",
       "      <td>34.0443</td>\n",
       "      <td>-157</td>\n",
       "      <td>0</td>\n",
       "      <td>-118.4268</td>\n",
       "      <td>10</td>\n",
       "      <td>1</td>\n",
       "      <td>...</td>\n",
       "      <td>2PT Field Goal</td>\n",
       "      <td>Left Side(L)</td>\n",
       "      <td>Mid-Range</td>\n",
       "      <td>8-16 ft.</td>\n",
       "      <td>1610612747</td>\n",
       "      <td>Los Angeles Lakers</td>\n",
       "      <td>2000-10-31</td>\n",
       "      <td>LAL @ POR</td>\n",
       "      <td>POR</td>\n",
       "      <td>2</td>\n",
       "    </tr>\n",
       "    <tr>\n",
       "      <th>2</th>\n",
       "      <td>Jump Shot</td>\n",
       "      <td>Jump Shot</td>\n",
       "      <td>35</td>\n",
       "      <td>20000012</td>\n",
       "      <td>33.9093</td>\n",
       "      <td>-101</td>\n",
       "      <td>135</td>\n",
       "      <td>-118.3708</td>\n",
       "      <td>7</td>\n",
       "      <td>1</td>\n",
       "      <td>...</td>\n",
       "      <td>2PT Field Goal</td>\n",
       "      <td>Left Side Center(LC)</td>\n",
       "      <td>Mid-Range</td>\n",
       "      <td>16-24 ft.</td>\n",
       "      <td>1610612747</td>\n",
       "      <td>Los Angeles Lakers</td>\n",
       "      <td>2000-10-31</td>\n",
       "      <td>LAL @ POR</td>\n",
       "      <td>POR</td>\n",
       "      <td>3</td>\n",
       "    </tr>\n",
       "    <tr>\n",
       "      <th>3</th>\n",
       "      <td>Jump Shot</td>\n",
       "      <td>Jump Shot</td>\n",
       "      <td>43</td>\n",
       "      <td>20000012</td>\n",
       "      <td>33.8693</td>\n",
       "      <td>138</td>\n",
       "      <td>175</td>\n",
       "      <td>-118.1318</td>\n",
       "      <td>6</td>\n",
       "      <td>1</td>\n",
       "      <td>...</td>\n",
       "      <td>2PT Field Goal</td>\n",
       "      <td>Right Side Center(RC)</td>\n",
       "      <td>Mid-Range</td>\n",
       "      <td>16-24 ft.</td>\n",
       "      <td>1610612747</td>\n",
       "      <td>Los Angeles Lakers</td>\n",
       "      <td>2000-10-31</td>\n",
       "      <td>LAL @ POR</td>\n",
       "      <td>POR</td>\n",
       "      <td>4</td>\n",
       "    </tr>\n",
       "    <tr>\n",
       "      <th>4</th>\n",
       "      <td>Driving Dunk Shot</td>\n",
       "      <td>Dunk</td>\n",
       "      <td>155</td>\n",
       "      <td>20000012</td>\n",
       "      <td>34.0443</td>\n",
       "      <td>0</td>\n",
       "      <td>0</td>\n",
       "      <td>-118.2698</td>\n",
       "      <td>6</td>\n",
       "      <td>2</td>\n",
       "      <td>...</td>\n",
       "      <td>2PT Field Goal</td>\n",
       "      <td>Center(C)</td>\n",
       "      <td>Restricted Area</td>\n",
       "      <td>Less Than 8 ft.</td>\n",
       "      <td>1610612747</td>\n",
       "      <td>Los Angeles Lakers</td>\n",
       "      <td>2000-10-31</td>\n",
       "      <td>LAL @ POR</td>\n",
       "      <td>POR</td>\n",
       "      <td>5</td>\n",
       "    </tr>\n",
       "  </tbody>\n",
       "</table>\n",
       "<p>5 rows × 25 columns</p>\n",
       "</div>"
      ],
      "text/plain": [
       "         action_type combined_shot_type  game_event_id   game_id      lat  \\\n",
       "0          Jump Shot          Jump Shot             10  20000012  33.9723   \n",
       "1          Jump Shot          Jump Shot             12  20000012  34.0443   \n",
       "2          Jump Shot          Jump Shot             35  20000012  33.9093   \n",
       "3          Jump Shot          Jump Shot             43  20000012  33.8693   \n",
       "4  Driving Dunk Shot               Dunk            155  20000012  34.0443   \n",
       "\n",
       "   loc_x  loc_y       lon  minutes_remaining  period   ...          shot_type  \\\n",
       "0    167     72 -118.1028                 10       1   ...     2PT Field Goal   \n",
       "1   -157      0 -118.4268                 10       1   ...     2PT Field Goal   \n",
       "2   -101    135 -118.3708                  7       1   ...     2PT Field Goal   \n",
       "3    138    175 -118.1318                  6       1   ...     2PT Field Goal   \n",
       "4      0      0 -118.2698                  6       2   ...     2PT Field Goal   \n",
       "\n",
       "          shot_zone_area  shot_zone_basic  shot_zone_range     team_id  \\\n",
       "0          Right Side(R)        Mid-Range        16-24 ft.  1610612747   \n",
       "1           Left Side(L)        Mid-Range         8-16 ft.  1610612747   \n",
       "2   Left Side Center(LC)        Mid-Range        16-24 ft.  1610612747   \n",
       "3  Right Side Center(RC)        Mid-Range        16-24 ft.  1610612747   \n",
       "4              Center(C)  Restricted Area  Less Than 8 ft.  1610612747   \n",
       "\n",
       "            team_name   game_date    matchup opponent  shot_id  \n",
       "0  Los Angeles Lakers  2000-10-31  LAL @ POR      POR        1  \n",
       "1  Los Angeles Lakers  2000-10-31  LAL @ POR      POR        2  \n",
       "2  Los Angeles Lakers  2000-10-31  LAL @ POR      POR        3  \n",
       "3  Los Angeles Lakers  2000-10-31  LAL @ POR      POR        4  \n",
       "4  Los Angeles Lakers  2000-10-31  LAL @ POR      POR        5  \n",
       "\n",
       "[5 rows x 25 columns]"
      ]
     },
     "execution_count": 137,
     "metadata": {},
     "output_type": "execute_result"
    }
   ],
   "source": [
    "import pandas as pd\n",
    "import numpy as np\n",
    "\n",
    "dataset = pd.read_csv('./dataset/data.csv')\n",
    "dataset.head()"
   ]
  },
  {
   "cell_type": "code",
   "execution_count": 138,
   "metadata": {},
   "outputs": [
    {
     "data": {
      "text/plain": [
       "action_type            object\n",
       "combined_shot_type     object\n",
       "game_event_id           int64\n",
       "game_id                 int64\n",
       "lat                   float64\n",
       "loc_x                   int64\n",
       "loc_y                   int64\n",
       "lon                   float64\n",
       "minutes_remaining       int64\n",
       "period                  int64\n",
       "playoffs                int64\n",
       "season                 object\n",
       "seconds_remaining       int64\n",
       "shot_distance           int64\n",
       "shot_made_flag        float64\n",
       "shot_type              object\n",
       "shot_zone_area         object\n",
       "shot_zone_basic        object\n",
       "shot_zone_range        object\n",
       "team_id                 int64\n",
       "team_name              object\n",
       "game_date              object\n",
       "matchup                object\n",
       "opponent               object\n",
       "shot_id                 int64\n",
       "dtype: object"
      ]
     },
     "execution_count": 138,
     "metadata": {},
     "output_type": "execute_result"
    }
   ],
   "source": [
    "pd.Series(dataset.dtypes)"
   ]
  },
  {
   "cell_type": "code",
   "execution_count": 139,
   "metadata": {},
   "outputs": [
    {
     "data": {
      "text/plain": [
       "(25697, 24)"
      ]
     },
     "execution_count": 139,
     "metadata": {},
     "output_type": "execute_result"
    }
   ],
   "source": [
    "X_train = dataset[dataset['shot_made_flag'].notnull()]\n",
    "y_train = X_train['shot_made_flag']\n",
    "X_train = X_train.drop(columns='shot_made_flag', axis=1 )\n",
    "X_train.shape"
   ]
  },
  {
   "cell_type": "code",
   "execution_count": 140,
   "metadata": {},
   "outputs": [
    {
     "data": {
      "text/plain": [
       "(5000, 24)"
      ]
     },
     "execution_count": 140,
     "metadata": {},
     "output_type": "execute_result"
    }
   ],
   "source": [
    "X_test = dataset[dataset['shot_made_flag'].isnull()].drop( 'shot_made_flag',axis=1)\n",
    "X_test.shape"
   ]
  },
  {
   "cell_type": "code",
   "execution_count": 175,
   "metadata": {
    "scrolled": true
   },
   "outputs": [
    {
     "name": "stdout",
     "output_type": "stream",
     "text": [
      "Alley Oop Dunk Shot                   95\n",
      "Alley Oop Layup shot                  67\n",
      "Cutting Layup Shot                     6\n",
      "Driving Bank shot                      3\n",
      "Driving Dunk Shot                    257\n",
      "Driving Finger Roll Layup Shot        59\n",
      "Driving Finger Roll Shot              68\n",
      "Driving Floating Bank Jump Shot        1\n",
      "Driving Floating Jump Shot             3\n",
      "Driving Hook Shot                     13\n",
      "Driving Jump shot                     23\n",
      "Driving Layup Shot                  1628\n",
      "Driving Reverse Layup Shot            83\n",
      "Driving Slam Dunk Shot                43\n",
      "Dunk Shot                            217\n",
      "Fadeaway Bank shot                    27\n",
      "Fadeaway Jump Shot                   872\n",
      "Finger Roll Layup Shot                28\n",
      "Finger Roll Shot                      26\n",
      "Floating Jump shot                    93\n",
      "Follow Up Dunk Shot                   10\n",
      "Hook Bank Shot                         5\n",
      "Hook Shot                             73\n",
      "Jump Bank Shot                       289\n",
      "Jump Hook Shot                        19\n",
      "Jump Shot                          15836\n",
      "Layup Shot                          2154\n",
      "Pullup Bank shot                      11\n",
      "Pullup Jump shot                     402\n",
      "Putback Dunk Shot                      3\n",
      "Putback Layup Shot                     9\n",
      "Putback Slam Dunk Shot                 2\n",
      "Reverse Dunk Shot                     61\n",
      "Reverse Layup Shot                   333\n",
      "Reverse Slam Dunk Shot                15\n",
      "Running Bank shot                     43\n",
      "Running Dunk Shot                     18\n",
      "Running Finger Roll Layup Shot         5\n",
      "Running Finger Roll Shot               4\n",
      "Running Hook Shot                     33\n",
      "Running Jump Shot                    779\n",
      "Running Layup Shot                    51\n",
      "Running Pull-Up Jump Shot              3\n",
      "Running Reverse Layup Shot             7\n",
      "Running Slam Dunk Shot                 1\n",
      "Running Tip Shot                       1\n",
      "Slam Dunk Shot                       334\n",
      "Step Back Jump shot                  106\n",
      "Tip Layup Shot                         2\n",
      "Tip Shot                             151\n",
      "Turnaround Bank shot                  58\n",
      "Turnaround Fadeaway shot             366\n",
      "Turnaround Finger Roll Shot            2\n",
      "Turnaround Hook Shot                   8\n",
      "Turnaround Jump Shot                 891\n",
      "Name: action_type, dtype: int64\n",
      "////////////////abs/////////\n",
      "55\n",
      "Jump Shot                          15836\n",
      "Layup Shot                          2154\n",
      "Driving Layup Shot                  1628\n",
      "Turnaround Jump Shot                 891\n",
      "Fadeaway Jump Shot                   872\n",
      "Running Jump Shot                    779\n",
      "Pullup Jump shot                     402\n",
      "Turnaround Fadeaway shot             366\n",
      "Slam Dunk Shot                       334\n",
      "Reverse Layup Shot                   333\n",
      "Jump Bank Shot                       289\n",
      "Driving Dunk Shot                    257\n",
      "Dunk Shot                            217\n",
      "Tip Shot                             151\n",
      "Step Back Jump shot                  106\n",
      "Alley Oop Dunk Shot                   95\n",
      "Floating Jump shot                    93\n",
      "Driving Reverse Layup Shot            83\n",
      "Hook Shot                             73\n",
      "Driving Finger Roll Shot              68\n",
      "Alley Oop Layup shot                  67\n",
      "Reverse Dunk Shot                     61\n",
      "Driving Finger Roll Layup Shot        59\n",
      "Turnaround Bank shot                  58\n",
      "Running Layup Shot                    51\n",
      "Driving Slam Dunk Shot                43\n",
      "Running Bank shot                     43\n",
      "Running Hook Shot                     33\n",
      "Finger Roll Layup Shot                28\n",
      "Fadeaway Bank shot                    27\n",
      "Finger Roll Shot                      26\n",
      "Driving Jump shot                     23\n",
      "Jump Hook Shot                        19\n",
      "Running Dunk Shot                     18\n",
      "Reverse Slam Dunk Shot                15\n",
      "Driving Hook Shot                     13\n",
      "Pullup Bank shot                      11\n",
      "Follow Up Dunk Shot                   10\n",
      "Putback Layup Shot                     9\n",
      "Turnaround Hook Shot                   8\n",
      "Running Reverse Layup Shot             7\n",
      "Cutting Layup Shot                     6\n",
      "Running Finger Roll Layup Shot         5\n",
      "Hook Bank Shot                         5\n",
      "Running Finger Roll Shot               4\n",
      "Running Pull-Up Jump Shot              3\n",
      "Driving Bank shot                      3\n",
      "Putback Dunk Shot                      3\n",
      "Driving Floating Jump Shot             3\n",
      "Turnaround Finger Roll Shot            2\n",
      "Tip Layup Shot                         2\n",
      "Putback Slam Dunk Shot                 2\n",
      "Driving Floating Bank Jump Shot        1\n",
      "Running Slam Dunk Shot                 1\n",
      "Running Tip Shot                       1\n",
      "Name: action_type, dtype: int64\n"
     ]
    },
    {
     "name": "stderr",
     "output_type": "stream",
     "text": [
      "/Users/y_tamura/anaconda3/lib/python3.6/site-packages/scipy/stats/stats.py:1713: FutureWarning: Using a non-tuple sequence for multidimensional indexing is deprecated; use `arr[tuple(seq)]` instead of `arr[seq]`. In the future this will be interpreted as an array index, `arr[np.array(seq)]`, which will result either in an error or a different result.\n",
      "  return np.add.reduce(sorted[indexer] * weights, axis=axis) / sumval\n"
     ]
    },
    {
     "data": {
      "text/plain": [
       "<matplotlib.axes._subplots.AxesSubplot at 0x1a4cb805c0>"
      ]
     },
     "execution_count": 175,
     "metadata": {},
     "output_type": "execute_result"
    },
    {
     "data": {
      "image/png": "[encoded data removed]",
      "text/plain": [
       "<Figure size 432x288 with 1 Axes>"
      ]
     },
     "metadata": {
      "needs_background": "light"
     },
     "output_type": "display_data"
    }
   ],
   "source": [
    "import matplotlib.pyplot as plt\n",
    "import seaborn as sns\n",
    "\n",
    "%matplotlib inline\n",
    "\n",
    "X_train['action_type'].value_counts(normalize=True)\n",
    "\n",
    "#各カラムの出現回数を比率でプロットする\n",
    "sns.distplot(X_train['action_type'].value_counts(normalize=True))"
   ]
  },
  {
   "cell_type": "code",
   "execution_count": 142,
   "metadata": {},
   "outputs": [
    {
     "data": {
      "image/png": "[encoded data removed]",
      "text/plain": [
       "<Figure size 432x1080 with 1 Axes>"
      ]
     },
     "metadata": {},
     "output_type": "display_data"
    }
   ],
   "source": [
    "import seaborn as sns\n",
    "import matplotlib.pyplot as plt\n",
    "sns.set(style=\"whitegrid\")\n",
    "\n",
    "# Initialize the matplotlib figure\n",
    "f, ax = plt.subplots(figsize=(6, 15))\n",
    "\n",
    "# Load the example car crash dataset\n",
    "crashes = sns.load_dataset(\"car_crashes\").sort_values(\"total\", ascending=False)\n",
    "\n",
    "# Plot the total crashes\n",
    "sns.set_color_codes(\"pastel\")\n",
    "sns.barplot(x=\"total\", y=\"abbrev\", data=crashes,\n",
    "            label=\"Total\", color=\"b\")\n",
    "\n",
    "# Plot the crashes where alcohol was involved\n",
    "sns.set_color_codes(\"muted\")\n",
    "sns.barplot(x=\"alcohol\", y=\"abbrev\", data=crashes,\n",
    "            label=\"Alcohol-involved\", color=\"b\")\n",
    "\n",
    "# Add a legend and informative axis label\n",
    "ax.legend(ncol=2, loc=\"lower right\", frameon=True)\n",
    "ax.set(xlim=(0, 24), ylabel=\"\",\n",
    "       xlabel=\"Automobile collisions per billion miles\")\n",
    "sns.despine(left=True, bottom=True)"
   ]
  },
  {
   "cell_type": "code",
   "execution_count": null,
   "metadata": {
    "collapsed": true
   },
   "outputs": [],
   "source": []
  },
  {
   "cell_type": "code",
   "execution_count": null,
   "metadata": {
    "collapsed": true
   },
   "outputs": [],
   "source": []
  }
 ],
 "metadata": {
  "kernelspec": {
   "display_name": "Python 3",
   "language": "python",
   "name": "python3"
  },
  "language_info": {
   "codemirror_mode": {
    "name": "ipython",
    "version": 3
   },
   "file_extension": ".py",
   "mimetype": "text/x-python",
   "name": "python",
   "nbconvert_exporter": "python",
   "pygments_lexer": "ipython3",
   "version": "3.6.4"
  }
 },
 "nbformat": 4,
 "nbformat_minor": 2
}
