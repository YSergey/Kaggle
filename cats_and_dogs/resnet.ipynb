{
 "cells": [
  {
   "cell_type": "code",
   "execution_count": 1,
   "metadata": {},
   "outputs": [
    {
     "name": "stderr",
     "output_type": "stream",
     "text": [
      "Using TensorFlow backend.\n"
     ]
    }
   ],
   "source": [
    "from keras.models import Model\n",
    "\n",
    "from keras.layers import Input, Activation, merge, Dense, Flatten\n",
    "from keras.layers.convolutional import Convolution2D, MaxPooling2D\n",
    "from keras.layers import BatchNormalization, add, GlobalAveragePooling2D\n",
    "\n",
    "from keras.optimizers import Adam\n",
    "\n",
    "from keras.utils import plot_model\n",
    "from keras.callbacks import EarlyStopping, ModelCheckpoint\n",
    "from keras.models import load_model\n",
    "\n",
    "from keras.datasets import cifar10\n",
    "from keras.utils import np_utils\n",
    "\n",
    "import numpy as np\n",
    "import matplotlib.pyplot as plt\n",
    "from scipy.misc import toimage"
   ]
  },
  {
   "cell_type": "code",
   "execution_count": null,
   "metadata": {},
   "outputs": [],
   "source": [
    "def _shortcut(inputs, residual):\n",
    "  n_filters = residual._keras_shape[3]\n",
    "  shortcut = Convolution2D(n_filters, (1,1), strides=(1,1),\n",
    "                           \n",
    "  return add([shortcut, residual])"
   ]
  },
  {
   "cell_type": "code",
   "execution_count": null,
   "metadata": {},
   "outputs": [],
   "source": [
    "def _resblock(n_filters, strides=(1,1)):\n",
    "      def f(input):    \n",
    "    x = Convolution2D(n_filters, (3,3), strides=strides,\n",
    "                                      kernel_initializer='he_normal', padding='same')(input)\n",
    "    x = BatchNormalization()(x)\n",
    "    x = Activation('relu')(x)\n",
    "    x = Convolution2D(n_filters, (3,3), strides=strides,\n",
    "                                      kernel_initializer='he_normal', padding='same')(input)\n",
    "    x = BatchNormalization()(x)\n",
    "    return _shortcut(input, x)\n",
    "    \n",
    "  return f\n"
   ]
  },
  {
   "cell_type": "code",
   "execution_count": null,
   "metadata": {},
   "outputs": [],
   "source": [
    "def resnet():\n",
    "  inputs = Input(shape=(32, 32, 3))\n",
    "  x = Convolution2D(32, (7,7), strides=(1,1),kernel_initializer='he_normal', padding='same')(inputs)\n",
    "  x = BatchNormalization()(x)\n",
    "  x = Activation('relu')(x)\n",
    "  \n",
    "  x = MaxPooling2D((3, 3), strides=(2,2), padding='same')(x)\n",
    "  \n",
    "  \n",
    "  x = _resblock(n_filters=64)(x)\n",
    "  x = _resblock(n_filters=64)(x)\n",
    "  x = _resblock(n_filters=64)(x)\n",
    "  x = MaxPooling2D(strides=(2,2))(x)  \n",
    "  x = _resblock(n_filters=128)(x)\n",
    "  x = _resblock(n_filters=128)(x)\n",
    "  x = _resblock(n_filters=128)(x)\n",
    "\n",
    "  x = GlobalAveragePooling2D()(x)\n",
    "  x = Dense(10, kernel_initializer='he_normal', activation='softmax')(x)\n",
    "\n",
    "  model = Model(inputs=inputs, outputs=x)\n",
    "  return model"
   ]
  },
  {
   "cell_type": "code",
   "execution_count": null,
   "metadata": {},
   "outputs": [],
   "source": [
    "model = resnet()\n",
    "\n",
    "adam = Adam()\n",
    "\n",
    "model.compile(optimizer=adam, loss='categorical_crossentropy', metrics=['accuracy'])\n",
    "\n",
    "model.summary()"
   ]
  }
 ],
 "metadata": {
  "kernelspec": {
   "display_name": "Python 3",
   "language": "python",
   "name": "python3"
  },
  "language_info": {
   "codemirror_mode": {
    "name": "ipython",
    "version": 3
   },
   "file_extension": ".py",
   "mimetype": "text/x-python",
   "name": "python",
   "nbconvert_exporter": "python",
   "pygments_lexer": "ipython3",
   "version": "3.6.6"
  }
 },
 "nbformat": 4,
 "nbformat_minor": 2
}
