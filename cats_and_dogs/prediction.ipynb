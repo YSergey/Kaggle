{
 "cells": [
  {
   "cell_type": "code",
   "execution_count": 3,
   "metadata": {},
   "outputs": [],
   "source": [
    "import os, shutil\n",
    "\n",
    "original_dataset_dir = '/Volumes/KESU/dog_vs_cat/train'\n",
    "base_dir = '/Volumes/KESU/dog_vs_cat/dataset'\n",
    "os.mkdir(base_dir)\n",
    "\n",
    "train_dir = os.path.join(base_dir, 'train')\n",
    "os.mkdir(train_dir)\n",
    "\n",
    "validation_dir = os.path.join(base_dir, 'validation')\n",
    "os.mkdir(validation_dir)\n",
    "\n",
    "train_cats_dir = os.path.join(train_dir, 'cats')\n",
    "os.mkdir(train_cats_dir)\n",
    "\n",
    "train_dogs_dir = os.path.join(train_dir, 'dogs')\n",
    "os.mkdir(train_dogs_dir)\n",
    "\n",
    "validation_cats_dir = os.path.join(validation_dir, 'cats')\n",
    "os.mkdir(validation_cats_dir)\n",
    "\n",
    "validation_dogs_dir = os.path.join(validation_dir, 'dogs')\n",
    "os.mkdir(validation_dogs_dir)\n"
   ]
  },
  {
   "cell_type": "code",
   "execution_count": 4,
   "metadata": {
    "collapsed": true
   },
   "outputs": [],
   "source": [
    "#trainデータの８割を学習用、残りをバリデーション用として使用する\n",
    "#eaach images 12500 \n",
    "#train images 10000\n",
    "#validation images 2500\n",
    "\n",
    "fnames_cat = ['cat.{}.jpg'.format(i) for i in range(12500)]\n",
    "fnames_dog = ['dog.{}.jpg'.format(i) for i in range(12500)]"
   ]
  },
  {
   "cell_type": "code",
   "execution_count": 5,
   "metadata": {
    "collapsed": true
   },
   "outputs": [],
   "source": [
    "#重複を許さず、猫ファイル名を取得\n",
    "import random\n",
    "\n",
    "files_cat = fnames_cat\n",
    "\n",
    "# 乱数により移動先を振り分け\n",
    "\n",
    "for f in files_cat:\n",
    "    if random.random() >= 0.2: \n",
    "        # 学習用フォルダへ移動\n",
    "        src = os.path.join(original_dataset_dir, f)\n",
    "        dst = os.path.join(train_cats_dir,f)\n",
    "        shutil.copy(src,dst)\n",
    "    else:                      \n",
    "        # dir2へ移動\n",
    "        src = os.path.join(original_dataset_dir,f)\n",
    "        dst = os.path.join(validation_cats_dir,f)\n",
    "        shutil.copy(src,dst)"
   ]
  },
  {
   "cell_type": "code",
   "execution_count": 6,
   "metadata": {
    "collapsed": true
   },
   "outputs": [],
   "source": [
    "#重複を許さず、犬ファイル名を取得\n",
    "\n",
    "# 乱数により移動先を振り分け\n",
    "\n",
    "for f in fnames_dog:\n",
    "    if random.random() >= 0.2: \n",
    "        # 学習用フォルダへ移動\n",
    "        src = os.path.join(original_dataset_dir, f)\n",
    "        dst = os.path.join(train_dogs_dir,f)\n",
    "        shutil.copy(src,dst)\n",
    "    else:                      \n",
    "        # dir2へ移動\n",
    "        src = os.path.join(original_dataset_dir,f)\n",
    "        dst = os.path.join(validation_dogs_dir,f)\n",
    "        shutil.copy(src,dst)"
   ]
  },
  {
   "cell_type": "code",
   "execution_count": 7,
   "metadata": {},
   "outputs": [
    {
     "name": "stdout",
     "output_type": "stream",
     "text": [
      "total training cat images 9946\n",
      "total training dog images 10109\n",
      "///////////////////////////////////////////////////\n",
      "total validation cat images 2554\n",
      "total validation dog images 2391\n"
     ]
    }
   ],
   "source": [
    "print('total training cat images', len(os.listdir(train_cats_dir)))\n",
    "print('total training dog images', len(os.listdir(train_dogs_dir)))\n",
    "print('///////////////////////////////////////////////////')\n",
    "print('total validation cat images', len(os.listdir(validation_cats_dir)))\n",
    "print('total validation dog images', len(os.listdir(validation_dogs_dir)))"
   ]
  },
  {
   "cell_type": "code",
   "execution_count": 32,
   "metadata": {
    "collapsed": true
   },
   "outputs": [],
   "source": [
    "from keras.models import Model\n",
    "\n",
    "from keras.layers import Input, Activation, merge, Dense, Flatten\n",
    "from keras.layers.convolutional import Convolution2D, MaxPooling2D\n",
    "from keras.layers import BatchNormalization, add, GlobalAveragePooling2D\n",
    "\n",
    "from keras.optimizers import Adam\n",
    "\n",
    "from keras.utils import plot_model\n",
    "from keras.callbacks import EarlyStopping, ModelCheckpoint\n",
    "from keras.models import load_model\n",
    "\n",
    "from keras.utils import np_utils\n",
    "\n",
    "import numpy as np\n",
    "from scipy.misc import toimage\n",
    "\n",
    "model = models.Sequential()\n",
    "model.add(layers.Conv2D(32, (3,3), activation='relu', input_shape=(150,150,3)))\n",
    "model.add(layers.MaxPooling2D((2,2)))\n",
    "model.add(layers.Conv2D(64, (3,3), activation='relu'))\n",
    "model.add(layers.MaxPooling2D((2,2)))\n",
    "model.add(layers.Conv2D(128, (3,3), activation='relu'))\n",
    "model.add(layers.MaxPooling2D((2,2)))\n",
    "model.add(layers.Flatten())\n",
    "model.add(layers.Dense(512, activation='relu'))\n",
    "model.add(layers.Dense(1,activation='softmax'))"
   ]
  },
  {
   "cell_type": "code",
   "execution_count": 33,
   "metadata": {
    "collapsed": true
   },
   "outputs": [],
   "source": [
    "def _shortcut(inputs, residual):\n",
    "  n_filters = residual._keras_shape[3]\n",
    "  shortcut = layers.Convolution2D(n_filters, (1,1), strides=(1,1),\n",
    "                           kernel_initializer='he_normal', padding='valid')(inputs)\n",
    "  \n",
    "  return add([shortcut, residual])"
   ]
  },
  {
   "cell_type": "code",
   "execution_count": 39,
   "metadata": {
    "collapsed": true
   },
   "outputs": [],
   "source": [
    "# ResBlock を定義\n",
    "def _resblock(n_filters, strides=(1,1)):\n",
    "  def f(input):    \n",
    "    x = Convolution2D(n_filters, (3,3), strides=strides,kernel_initializer='he_normal', padding='same')(input)\n",
    "    x = BatchNormalization()(x)\n",
    "    x = Activation('relu')(x)\n",
    "    x = Convolution2D(n_filters, (3,3), strides=strides,kernel_initializer='he_normal', padding='same')(input)\n",
    "    x = BatchNormalization()(x)\n",
    "    \n",
    "    # 入力そのものと、BN→ReLU→Conv したものとを足す\n",
    "    return _shortcut(input, x)\n",
    "    \n",
    "  return f"
   ]
  },
  {
   "cell_type": "code",
   "execution_count": 35,
   "metadata": {
    "collapsed": true
   },
   "outputs": [],
   "source": [
    "def resnet():\n",
    "  # 入力テンソルを定義しておく\n",
    "  inputs = input_shape=(150,150,3)\n",
    "  \n",
    "  # ResBlock で処理をする前に、いったん\n",
    "  # 7x7で畳み込み→BN→ReLU　をし、さらに MaxPooling している\n",
    "  # これは無くても動くが、早い段階でとりあえずMaxPoolingすることで画像サイズが1/2になるので\n",
    "  # パラメータ数の増加を抑える(高速に学習できる)効果がある\n",
    "  \n",
    "  # 7x7conv→BN→ReLU\n",
    "  x = Convolution2D(32, (3,3), strides=(1,1),\n",
    "                    kernel_initializer='he_normal', padding='same')(inputs)\n",
    "  x = BatchNormalization()(x)\n",
    "  x = Activation('relu')(x)\n",
    "  \n",
    "  # MaxPoolingで縮小\n",
    "  x = MaxPooling2D((3, 3), strides=(2,2), padding='same')(x)\n",
    "  \n",
    "  #ここからは ResBlock を積み重ねていく\n",
    "  # 下では ResBlock x3 → MaxPooling → ResBlock x3 という非常に小さいネットワーク\n",
    "  \n",
    "  x = _resblock(n_filters=64)(x)\n",
    "  x = _resblock(n_filters=64)(x)\n",
    "  x = _resblock(n_filters=64)(x)\n",
    "  x = MaxPooling2D(strides=(2,2))(x)  \n",
    "  x = _resblock(n_filters=128)(x)\n",
    "  x = _resblock(n_filters=128)(x)\n",
    "  x = _resblock(n_filters=128)(x)\n",
    "\n",
    "  # Global Average Pooling したあとに Fully Connection Network ( = Dense) する\n",
    "  x = GlobalAveragePooling2D()(x)\n",
    "  x = Dense(10, kernel_initializer='he_normal', activation='softmax')(x)\n",
    "  \n",
    "  # Keras では、入力と出力の2個だけを指定すると、計算に必要なネットワークを勝手に構築してくれる機能がある\n",
    "  # inputs は初めに定義しておいた  Input(shape=(32, 32, 3)) で、\n",
    "  # outputs は softmax で10個の出力を行う Dense のネットワークなので、その2つを指定する\n",
    "  model = Model(inputs=inputs, outputs=x)\n",
    "  return model"
   ]
  },
  {
   "cell_type": "code",
   "execution_count": 36,
   "metadata": {
    "collapsed": true
   },
   "outputs": [],
   "source": [
    "from keras.callbacks import EarlyStopping, ModelCheckpoint\n",
    "\n",
    "callback_cp = ModelCheckpoint(filepath='weights.{epoch:02d}.hdf5')\n",
    "\n",
    "callback_es = EarlyStopping(monitor='val_acc', patience=5, mode='auto', verbose=1)"
   ]
  },
  {
   "cell_type": "code",
   "execution_count": 37,
   "metadata": {},
   "outputs": [
    {
     "name": "stdout",
     "output_type": "stream",
     "text": [
      "Found 20055 images belonging to 2 classes.\n",
      "Found 4945 images belonging to 2 classes.\n"
     ]
    }
   ],
   "source": [
    "from keras.preprocessing.image import ImageDataGenerator\n",
    "\n",
    "train_datagen = ImageDataGenerator(rescale=1./255)\n",
    "test_datagen = ImageDataGenerator(rescale=1./255)\n",
    "\n",
    "train_generator = train_datagen.flow_from_directory(\n",
    "                                train_dir, \n",
    "                                target_size=(150, 150),\n",
    "                                batch_size=128, \n",
    "                                class_mode='binary')\n",
    "\n",
    "validation_generator = test_datagen.flow_from_directory(\n",
    "                                            validation_dir, \n",
    "                                            target_size=(150,150), \n",
    "                                            batch_size=128, \n",
    "                                            class_mode='binary')"
   ]
  },
  {
   "cell_type": "code",
   "execution_count": 38,
   "metadata": {},
   "outputs": [
    {
     "ename": "ValueError",
     "evalue": "Layer conv2d_7 was called with an input that isn't a symbolic tensor. Received type: <class 'tuple'>. Full input: [(150, 150, 3)]. All inputs to the layer should be tensors.",
     "output_type": "error",
     "traceback": [
      "\u001b[0;31m---------------------------------------------------------------------------\u001b[0m",
      "\u001b[0;31mValueError\u001b[0m                                Traceback (most recent call last)",
      "\u001b[0;32m~/anaconda3/lib/python3.6/site-packages/keras/engine/base_layer.py\u001b[0m in \u001b[0;36massert_input_compatibility\u001b[0;34m(self, inputs)\u001b[0m\n\u001b[1;32m    278\u001b[0m             \u001b[0;32mtry\u001b[0m\u001b[0;34m:\u001b[0m\u001b[0;34m\u001b[0m\u001b[0m\n\u001b[0;32m--> 279\u001b[0;31m                 \u001b[0mK\u001b[0m\u001b[0;34m.\u001b[0m\u001b[0mis_keras_tensor\u001b[0m\u001b[0;34m(\u001b[0m\u001b[0mx\u001b[0m\u001b[0;34m)\u001b[0m\u001b[0;34m\u001b[0m\u001b[0m\n\u001b[0m\u001b[1;32m    280\u001b[0m             \u001b[0;32mexcept\u001b[0m \u001b[0mValueError\u001b[0m\u001b[0;34m:\u001b[0m\u001b[0;34m\u001b[0m\u001b[0m\n",
      "\u001b[0;32m~/anaconda3/lib/python3.6/site-packages/keras/backend/tensorflow_backend.py\u001b[0m in \u001b[0;36mis_keras_tensor\u001b[0;34m(x)\u001b[0m\n\u001b[1;32m    470\u001b[0m         raise ValueError('Unexpectedly found an instance of type `' +\n\u001b[0;32m--> 471\u001b[0;31m                          \u001b[0mstr\u001b[0m\u001b[0;34m(\u001b[0m\u001b[0mtype\u001b[0m\u001b[0;34m(\u001b[0m\u001b[0mx\u001b[0m\u001b[0;34m)\u001b[0m\u001b[0;34m)\u001b[0m \u001b[0;34m+\u001b[0m \u001b[0;34m'`. '\u001b[0m\u001b[0;34m\u001b[0m\u001b[0m\n\u001b[0m\u001b[1;32m    472\u001b[0m                          'Expected a symbolic tensor instance.')\n",
      "\u001b[0;31mValueError\u001b[0m: Unexpectedly found an instance of type `<class 'tuple'>`. Expected a symbolic tensor instance.",
      "\nDuring handling of the above exception, another exception occurred:\n",
      "\u001b[0;31mValueError\u001b[0m                                Traceback (most recent call last)",
      "\u001b[0;32m<ipython-input-38-c15a699e21a6>\u001b[0m in \u001b[0;36m<module>\u001b[0;34m()\u001b[0m\n\u001b[0;32m----> 1\u001b[0;31m \u001b[0mmodel\u001b[0m \u001b[0;34m=\u001b[0m \u001b[0mresnet\u001b[0m\u001b[0;34m(\u001b[0m\u001b[0;34m)\u001b[0m\u001b[0;34m\u001b[0m\u001b[0m\n\u001b[0m\u001b[1;32m      2\u001b[0m \u001b[0;34m\u001b[0m\u001b[0m\n\u001b[1;32m      3\u001b[0m \u001b[0madam\u001b[0m \u001b[0;34m=\u001b[0m \u001b[0mAdam\u001b[0m\u001b[0;34m(\u001b[0m\u001b[0;34m)\u001b[0m\u001b[0;34m\u001b[0m\u001b[0m\n\u001b[1;32m      4\u001b[0m \u001b[0;34m\u001b[0m\u001b[0m\n\u001b[1;32m      5\u001b[0m \u001b[0;31m# inputs から outputs を求める計算をするようにコンパイルする\u001b[0m\u001b[0;34m\u001b[0m\u001b[0;34m\u001b[0m\u001b[0m\n",
      "\u001b[0;32m<ipython-input-35-8edb2f9b87d0>\u001b[0m in \u001b[0;36mresnet\u001b[0;34m()\u001b[0m\n\u001b[1;32m     10\u001b[0m   \u001b[0;31m# 7x7conv→BN→ReLU\u001b[0m\u001b[0;34m\u001b[0m\u001b[0;34m\u001b[0m\u001b[0m\n\u001b[1;32m     11\u001b[0m   x = Convolution2D(32, (3,3), strides=(1,1),\n\u001b[0;32m---> 12\u001b[0;31m                     kernel_initializer='he_normal', padding='same')(inputs)\n\u001b[0m\u001b[1;32m     13\u001b[0m   \u001b[0mx\u001b[0m \u001b[0;34m=\u001b[0m \u001b[0mBatchNormalization\u001b[0m\u001b[0;34m(\u001b[0m\u001b[0;34m)\u001b[0m\u001b[0;34m(\u001b[0m\u001b[0mx\u001b[0m\u001b[0;34m)\u001b[0m\u001b[0;34m\u001b[0m\u001b[0m\n\u001b[1;32m     14\u001b[0m   \u001b[0mx\u001b[0m \u001b[0;34m=\u001b[0m \u001b[0mActivation\u001b[0m\u001b[0;34m(\u001b[0m\u001b[0;34m'relu'\u001b[0m\u001b[0;34m)\u001b[0m\u001b[0;34m(\u001b[0m\u001b[0mx\u001b[0m\u001b[0;34m)\u001b[0m\u001b[0;34m\u001b[0m\u001b[0m\n",
      "\u001b[0;32m~/anaconda3/lib/python3.6/site-packages/keras/engine/base_layer.py\u001b[0m in \u001b[0;36m__call__\u001b[0;34m(self, inputs, **kwargs)\u001b[0m\n\u001b[1;32m    412\u001b[0m                 \u001b[0;31m# Raise exceptions in case the input is not compatible\u001b[0m\u001b[0;34m\u001b[0m\u001b[0;34m\u001b[0m\u001b[0m\n\u001b[1;32m    413\u001b[0m                 \u001b[0;31m# with the input_spec specified in the layer constructor.\u001b[0m\u001b[0;34m\u001b[0m\u001b[0;34m\u001b[0m\u001b[0m\n\u001b[0;32m--> 414\u001b[0;31m                 \u001b[0mself\u001b[0m\u001b[0;34m.\u001b[0m\u001b[0massert_input_compatibility\u001b[0m\u001b[0;34m(\u001b[0m\u001b[0minputs\u001b[0m\u001b[0;34m)\u001b[0m\u001b[0;34m\u001b[0m\u001b[0m\n\u001b[0m\u001b[1;32m    415\u001b[0m \u001b[0;34m\u001b[0m\u001b[0m\n\u001b[1;32m    416\u001b[0m                 \u001b[0;31m# Collect input shapes to build layer.\u001b[0m\u001b[0;34m\u001b[0m\u001b[0;34m\u001b[0m\u001b[0m\n",
      "\u001b[0;32m~/anaconda3/lib/python3.6/site-packages/keras/engine/base_layer.py\u001b[0m in \u001b[0;36massert_input_compatibility\u001b[0;34m(self, inputs)\u001b[0m\n\u001b[1;32m    283\u001b[0m                                  \u001b[0;34m'Received type: '\u001b[0m \u001b[0;34m+\u001b[0m\u001b[0;34m\u001b[0m\u001b[0m\n\u001b[1;32m    284\u001b[0m                                  \u001b[0mstr\u001b[0m\u001b[0;34m(\u001b[0m\u001b[0mtype\u001b[0m\u001b[0;34m(\u001b[0m\u001b[0mx\u001b[0m\u001b[0;34m)\u001b[0m\u001b[0;34m)\u001b[0m \u001b[0;34m+\u001b[0m \u001b[0;34m'. Full input: '\u001b[0m \u001b[0;34m+\u001b[0m\u001b[0;34m\u001b[0m\u001b[0m\n\u001b[0;32m--> 285\u001b[0;31m                                  \u001b[0mstr\u001b[0m\u001b[0;34m(\u001b[0m\u001b[0minputs\u001b[0m\u001b[0;34m)\u001b[0m \u001b[0;34m+\u001b[0m \u001b[0;34m'. All inputs to the layer '\u001b[0m\u001b[0;34m\u001b[0m\u001b[0m\n\u001b[0m\u001b[1;32m    286\u001b[0m                                  'should be tensors.')\n\u001b[1;32m    287\u001b[0m \u001b[0;34m\u001b[0m\u001b[0m\n",
      "\u001b[0;31mValueError\u001b[0m: Layer conv2d_7 was called with an input that isn't a symbolic tensor. Received type: <class 'tuple'>. Full input: [(150, 150, 3)]. All inputs to the layer should be tensors."
     ]
    }
   ],
   "source": [
    "model = resnet()\n",
    "\n",
    "adam = Adam()\n",
    "\n",
    "# inputs から outputs を求める計算をするようにコンパイルする\n",
    "# ここでネットワークでどのような処理を行うかが全て決定される\n",
    "model.compile(optimizer=adam, loss='categorical_crossentropy', metrics=['accuracy'])\n",
    "\n",
    "# 今作ったネットワークがどんなネットワークなのか概要を表示する機能(見られるだけなので無くても良い)\n",
    "model.summary()"
   ]
  },
  {
   "cell_type": "code",
   "execution_count": 12,
   "metadata": {},
   "outputs": [
    {
     "name": "stdout",
     "output_type": "stream",
     "text": [
      "Epoch 1/30\n",
      "30/30 [==============================] - 274s 9s/step - loss: 7.9006 - acc: 0.5044 - val_loss: 8.2209 - val_acc: 0.4843\n",
      "Epoch 2/30\n",
      "30/30 [==============================] - 260s 9s/step - loss: 7.8716 - acc: 0.5062 - val_loss: 8.2585 - val_acc: 0.4820\n",
      "Epoch 3/30\n",
      "30/30 [==============================] - 266s 9s/step - loss: 7.7960 - acc: 0.5110 - val_loss: 8.2284 - val_acc: 0.4839\n",
      "Epoch 4/30\n",
      "30/30 [==============================] - 280s 9s/step - loss: 7.8716 - acc: 0.5062 - val_loss: 8.2108 - val_acc: 0.4850\n",
      "Epoch 5/30\n",
      "30/30 [==============================] - 311s 10s/step - loss: 8.0999 - acc: 0.4919 - val_loss: 8.2334 - val_acc: 0.4836\n",
      "Epoch 6/30\n",
      "30/30 [==============================] - 279s 9s/step - loss: 7.8093 - acc: 0.5102 - val_loss: 8.2460 - val_acc: 0.4828\n",
      "Epoch 7/30\n",
      "30/30 [==============================] - 292s 10s/step - loss: 7.7553 - acc: 0.5135 - val_loss: 8.1958 - val_acc: 0.4859\n",
      "Epoch 8/30\n",
      "30/30 [==============================] - 299s 10s/step - loss: 8.0459 - acc: 0.4953 - val_loss: 8.3012 - val_acc: 0.4793\n",
      "Epoch 9/30\n",
      "30/30 [==============================] - 261s 9s/step - loss: 7.8591 - acc: 0.5070 - val_loss: 8.2460 - val_acc: 0.4828\n",
      "Epoch 10/30\n",
      "30/30 [==============================] - 293s 10s/step - loss: 8.0833 - acc: 0.4930 - val_loss: 8.2460 - val_acc: 0.4828\n",
      "Epoch 11/30\n",
      "30/30 [==============================] - 294s 10s/step - loss: 7.9575 - acc: 0.5009 - val_loss: 8.2911 - val_acc: 0.4799\n",
      "Epoch 12/30\n",
      "30/30 [==============================] - 262s 9s/step - loss: 8.0071 - acc: 0.4977 - val_loss: 8.2334 - val_acc: 0.4836\n",
      "Epoch 00012: early stopping\n"
     ]
    }
   ],
   "source": [
    "history = model.fit_generator(train_generator, \n",
    "                                                     steps_per_epoch=30, \n",
    "                                                     epochs=30, \n",
    "                                                     validation_data=validation_generator, \n",
    "                                                     callbacks=[callback_cp, callback_es],\n",
    "                                                     validation_steps=50)"
   ]
  },
  {
   "cell_type": "code",
   "execution_count": 13,
   "metadata": {
    "collapsed": true
   },
   "outputs": [],
   "source": [
    "model.save('cats_and_dogs_small_1.h5')"
   ]
  },
  {
   "cell_type": "code",
   "execution_count": 14,
   "metadata": {},
   "outputs": [
    {
     "data": {
      "image/png": "[encoded data removed]",
      "text/plain": [
       "<matplotlib.figure.Figure at 0x10c6d0f98>"
      ]
     },
     "metadata": {},
     "output_type": "display_data"
    }
   ],
   "source": [
    "import matplotlib.pyplot as plt\n",
    "\n",
    "acc = history.history['acc']\n",
    "val_acc = history.history['val_acc']\n",
    "loss = history.history['loss']\n",
    "val_loss = history.history['val_loss']\n",
    "\n",
    "epochs = range(1, len(acc) + 1)\n",
    "\n",
    "plt.plot(epochs, acc, 'bo', label='Training acc')\n",
    "plt.plot(epochs, val_acc, 'b', label='Validation acc')\n",
    "plt.title('Training and validation accuracy')\n",
    "plt.legend()\n",
    "\n",
    "plt.show()"
   ]
  },
  {
   "cell_type": "code",
   "execution_count": null,
   "metadata": {
    "collapsed": true
   },
   "outputs": [],
   "source": []
  }
 ],
 "metadata": {
  "kernelspec": {
   "display_name": "Python 3",
   "language": "python",
   "name": "python3"
  },
  "language_info": {
   "codemirror_mode": {
    "name": "ipython",
    "version": 3
   },
   "file_extension": ".py",
   "mimetype": "text/x-python",
   "name": "python",
   "nbconvert_exporter": "python",
   "pygments_lexer": "ipython3",
   "version": "3.6.6"
  }
 },
 "nbformat": 4,
 "nbformat_minor": 2
}
