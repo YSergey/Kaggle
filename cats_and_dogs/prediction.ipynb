{
 "cells": [
  {
   "cell_type": "code",
   "execution_count": 71,
   "metadata": {},
   "outputs": [],
   "source": [
    "import os, shutil\n",
    "\n",
    "original_dataset_dir = '/Volumes/KESU/dog_vs_cat/train'\n",
    "base_dir = '/Volumes/KESU/dog_vs_cat/dataset'\n",
    "os.mkdir(base_dir)\n",
    "\n",
    "train_dir = os.path.join(base_dir, 'train')\n",
    "os.mkdir(train_dir)\n",
    "\n",
    "validation_dir = os.path.join(base_dir, 'validation')\n",
    "os.mkdir(validation_dir)\n",
    "\n",
    "train_cats_dir = os.path.join(train_dir, 'cats')\n",
    "os.mkdir(train_cats_dir)\n",
    "\n",
    "train_dogs_dir = os.path.join(train_dir, 'dogs')\n",
    "os.mkdir(train_dogs_dir)\n",
    "\n",
    "validation_cats_dir = os.path.join(validation_dir, 'cats')\n",
    "os.mkdir(validation_cats_dir)\n",
    "\n",
    "validation_dogs_dir = os.path.join(validation_dir, 'dogs')\n",
    "os.mkdir(validation_dogs_dir)\n"
   ]
  },
  {
   "cell_type": "code",
   "execution_count": 72,
   "metadata": {
    "collapsed": true
   },
   "outputs": [],
   "source": [
    "#trainデータの８割を学習用、残りをバリデーション用として使用する\n",
    "#eaach images 12500 \n",
    "#train images 10000\n",
    "#validation images 2500\n",
    "\n",
    "fnames_cat = ['cat.{}.jpg'.format(i) for i in range(12500)]\n",
    "fnames_dog = ['dog.{}.jpg'.format(i) for i in range(12500)]"
   ]
  },
  {
   "cell_type": "code",
   "execution_count": 73,
   "metadata": {},
   "outputs": [],
   "source": [
    "#重複を許さず、猫ファイル名を取得\n",
    "import random\n",
    "\n",
    "files_cat = fnames_cat\n",
    "\n",
    "# 乱数により移動先を振り分け\n",
    "\n",
    "for f in files_cat:\n",
    "    if random.random() >= 0.2: \n",
    "        # 学習用フォルダへ移動\n",
    "        src = os.path.join(original_dataset_dir, f)\n",
    "        dst = os.path.join(train_cats_dir,f)\n",
    "        shutil.copy(src,dst)\n",
    "    else:                      \n",
    "        # dir2へ移動\n",
    "        src = os.path.join(original_dataset_dir,f)\n",
    "        dst = os.path.join(validation_cats_dir,f)\n",
    "        shutil.copy(src,dst)"
   ]
  },
  {
   "cell_type": "code",
   "execution_count": 74,
   "metadata": {},
   "outputs": [],
   "source": [
    "#重複を許さず、犬ファイル名を取得\n",
    "\n",
    "# 乱数により移動先を振り分け\n",
    "\n",
    "for f in fnames_dog:\n",
    "    if random.random() >= 0.2: \n",
    "        # 学習用フォルダへ移動\n",
    "        src = os.path.join(original_dataset_dir, f)\n",
    "        dst = os.path.join(train_dogs_dir,f)\n",
    "        shutil.copy(src,dst)\n",
    "    else:                      \n",
    "        # dir2へ移動\n",
    "        src = os.path.join(original_dataset_dir,f)\n",
    "        dst = os.path.join(validation_dogs_dir,f)\n",
    "        shutil.copy(src,dst)"
   ]
  },
  {
   "cell_type": "code",
   "execution_count": 78,
   "metadata": {},
   "outputs": [
    {
     "name": "stdout",
     "output_type": "stream",
     "text": [
      "total training cat images 10018\n",
      "total training dog images 10007\n",
      "///////////////////////////////////////////////////\n",
      "total validation cat images 2482\n",
      "total validation dog images 2493\n"
     ]
    }
   ],
   "source": [
    "print('total training cat images', len(os.listdir(train_cats_dir)))\n",
    "print('total training dog images', len(os.listdir(train_dogs_dir)))\n",
    "print('///////////////////////////////////////////////////')\n",
    "print('total validation cat images', len(os.listdir(validation_cats_dir)))\n",
    "print('total validation dog images', len(os.listdir(validation_dogs_dir)))"
   ]
  },
  {
   "cell_type": "code",
   "execution_count": 79,
   "metadata": {
    "collapsed": true
   },
   "outputs": [],
   "source": [
    "from keras import layers\n",
    "from keras import models\n",
    "\n",
    "model = models.Sequential()\n",
    "model.add(layers.Conv2D(32, (3,3), activation='relu', input_shape=(150,150,3)))\n",
    "model.add(layers.MaxPooling2D((2,2)))\n",
    "model.add(layers.Conv2D(64, (3,3), activation='relu'))\n",
    "model.add(layers.MaxPooling2D((2,2)))\n",
    "model.add(layers.Conv2D(128, (3,3), activation='relu'))\n",
    "model.add(layers.MaxPooling2D((2,2)))\n",
    "model.add(layers.Flatten())\n",
    "model.add(layers.Dense(512, activation='relu'))\n",
    "model.add(layers.Dense(1,activation='softmax'))"
   ]
  },
  {
   "cell_type": "code",
   "execution_count": 80,
   "metadata": {
    "collapsed": true
   },
   "outputs": [],
   "source": [
    "from keras import optimizers\n",
    "\n",
    "model.compile(loss='binary_crossentropy', \n",
    "                      optimizer= optimizers.Adam(lr=1e-4), \n",
    "                      metrics= ['acc'])"
   ]
  },
  {
   "cell_type": "code",
   "execution_count": 77,
   "metadata": {
    "collapsed": true
   },
   "outputs": [],
   "source": [
    "from keras.callbacks import EarlyStopping, ModelCheckpoint\n",
    "\n",
    "callback_cp = ModelCheckpoint(filepath='weights.{epoch:02d}.hdf5')\n",
    "\n",
    "callback_es = EarlyStopping(monitor='val_acc', patience=2, mode='auto', verbose=1)"
   ]
  },
  {
   "cell_type": "code",
   "execution_count": 81,
   "metadata": {},
   "outputs": [
    {
     "name": "stdout",
     "output_type": "stream",
     "text": [
      "Found 20025 images belonging to 2 classes.\n",
      "Found 4975 images belonging to 2 classes.\n"
     ]
    }
   ],
   "source": [
    "from keras.preprocessing.image import ImageDataGenerator\n",
    "\n",
    "train_datagen = ImageDataGenerator(rescale=1./255)\n",
    "test_datagen = ImageDataGenerator(rescale=1./255)\n",
    "\n",
    "train_generator = train_datagen.flow_from_directory(\n",
    "                                train_dir, \n",
    "                                target_size=(150, 150),\n",
    "                                batch_size=32, \n",
    "                                class_mode='binary')\n",
    "\n",
    "validation_generator = test_datagen.flow_from_directory(\n",
    "                                            validation_dir, \n",
    "                                            target_size=(150,150), \n",
    "                                            batch_size=32, \n",
    "                                            class_mode='binary')"
   ]
  },
  {
   "cell_type": "code",
   "execution_count": null,
   "metadata": {
    "collapsed": true
   },
   "outputs": [],
   "source": []
  }
 ],
 "metadata": {
  "kernelspec": {
   "display_name": "Python 3",
   "language": "python",
   "name": "python3"
  },
  "language_info": {
   "codemirror_mode": {
    "name": "ipython",
    "version": 3
   },
   "file_extension": ".py",
   "mimetype": "text/x-python",
   "name": "python",
   "nbconvert_exporter": "python",
   "pygments_lexer": "ipython3",
   "version": "3.6.4"
  }
 },
 "nbformat": 4,
 "nbformat_minor": 2
}
