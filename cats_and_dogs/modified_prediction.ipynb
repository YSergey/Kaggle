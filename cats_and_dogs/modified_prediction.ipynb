{
 "cells": [
  {
   "cell_type": "code",
   "execution_count": 21,
   "metadata": {},
   "outputs": [],
   "source": [
    "import os, shutil\n",
    "\n",
    "base_dir = '/Volumes/KESU/dog_vs_cat'\n",
    "\n",
    "train_dir = os.path.join(base_dir, 'train')\n",
    "test_dir = os.path.join(base_dir, 'test')"
   ]
  },
  {
   "cell_type": "code",
   "execution_count": 22,
   "metadata": {},
   "outputs": [],
   "source": [
    "fnames_cat = ['cat.{}.jpg'.format(i) for i in range(12500)]\n",
    "fnames_dog = ['dog.{}.jpg'.format(i) for i in range(12500)]"
   ]
  },
  {
   "cell_type": "code",
   "execution_count": 23,
   "metadata": {},
   "outputs": [],
   "source": [
    "dataset = os.path.join(base_dir, 'dataset')\n",
    "#os.mkdir(os.path.join(dataset, 'train'))\n",
    "#os.mkdir(os.path.join(dataset, 'validation'))"
   ]
  },
  {
   "cell_type": "code",
   "execution_count": 24,
   "metadata": {
    "scrolled": true
   },
   "outputs": [],
   "source": [
    "train = os.path.join(dataset,'train')\n",
    "validation = os.path.join(dataset,'validation')"
   ]
  },
  {
   "cell_type": "code",
   "execution_count": 5,
   "metadata": {},
   "outputs": [],
   "source": [
    "#トレインデータとバリデーションデータに分ける\n",
    "import random\n",
    "import shutil\n",
    "\n",
    "for f in fnames_cat:\n",
    "    src = os.path.join(train_dir, f)\n",
    "    if random.random() >= 0.2: \n",
    "        dst = os.path.join(train,f)\n",
    "        shutil.copy(src,dst)\n",
    "    else:                      \n",
    "        src = os.path.join(train_dir,f)\n",
    "        dst = os.path.join(validation,f)\n",
    "        shutil.copy(src,dst)"
   ]
  },
  {
   "cell_type": "code",
   "execution_count": 8,
   "metadata": {},
   "outputs": [],
   "source": [
    "for f in fnames_dog:\n",
    "    src = os.path.join(train_dir,f)\n",
    "    if random.random() >= 0.2:\n",
    "        dst = os.path.join(train,f)\n",
    "        shutil.copy(src,dst)\n",
    "    else:\n",
    "        dst = os.path.join(validation,f)\n",
    "        shutil.copy(src,dst)"
   ]
  },
  {
   "cell_type": "code",
   "execution_count": 25,
   "metadata": {},
   "outputs": [
    {
     "name": "stdout",
     "output_type": "stream",
     "text": [
      "total training cat images 20097\n",
      "///////////////////////////////////////////////////\n",
      "total validation cat images 4903\n"
     ]
    }
   ],
   "source": [
    "print('total training cat images', len(os.listdir(train)))\n",
    "print('///////////////////////////////////////////////////')\n",
    "print('total validation cat images', len(os.listdir(validation)))"
   ]
  },
  {
   "cell_type": "code",
   "execution_count": 30,
   "metadata": {},
   "outputs": [
    {
     "name": "stdout",
     "output_type": "stream",
     "text": [
      "Found 0 images belonging to 0 classes.\n",
      "Found 0 images belonging to 0 classes.\n",
      "Found 0 images belonging to 0 classes.\n"
     ]
    }
   ],
   "source": [
    "#preprocessing\n",
    "#画像ファイルを読み込む\n",
    "#RGBのピクセルグリッドにデコードする\n",
    "#テンソルに変換する\n",
    "#[0, 1]に収まるようにする\n",
    "\n",
    "from keras.preprocessing.image import ImageDataGenerator\n",
    "\n",
    "train_data_generator = ImageDataGenerator(rescale=1./255)\n",
    "val_data_generator = ImageDataGenerator(rescale=1./255)\n",
    "test_data_generator = ImageDataGenerator(rescale=1./255)\n",
    "\n",
    "train_generator = train_data_generator.flow_from_directory(\n",
    "                                    train, \n",
    "                                    target_size=(150,150), \n",
    "                                    batch_size=32, \n",
    "                                    class_mode='binary')\n",
    "\n",
    "val_generator = val_data_generator.flow_from_directory(\n",
    "                                    validation, \n",
    "                                    target_size=(150,150), \n",
    "                                    batch_size=32, \n",
    "                                    class_mode='binary')\n",
    "\n",
    "test_generator = test_data_generator.flow_from_directory(\n",
    "                                    test_dir, \n",
    "                                    target_size=(150,150), \n",
    "                                    batch_size=32, \n",
    "                                    class_mode='binary"
   ]
  },
  {
   "cell_type": "code",
   "execution_count": 49,
   "metadata": {},
   "outputs": [],
   "source": [
    "from keras import layers\n",
    "from keras import Input, layers\n",
    "from keras.models import Model\n"
   ]
  },
  {
   "cell_type": "code",
   "execution_count": 44,
   "metadata": {},
   "outputs": [],
   "source": [
    "def fire_module(x, squeeze=16, expand=64):\n",
    "    #Squeeze layer\n",
    "    x = layers.Conv2D(filters=squeeze, kernel_size=(1,1), padding='valid', kernel_initializer='he_normal')(x)\n",
    "    x = layers.Activation('relu')\n",
    "    \n",
    "    #Expand layer\n",
    "    left = layers.Conv2D(filters=expand,kernel_size=(1,1), padding='valid', kernel_initializer='he_normal')(x)\n",
    "    left = layers.Activation('relu')(left)\n",
    "    \n",
    "    right = layers.Conv2D(filters=expand,kernel_size= (3,3), padding='same', kernel_initializer='he_normal')(x)\n",
    "    right = layers.Activation('relu')(right)\n",
    "    \n",
    "    x = layers.concatenate([left, right], axis=3)\n",
    "    \n",
    "    return x"
   ]
  },
  {
   "cell_type": "code",
   "execution_count": null,
   "metadata": {},
   "outputs": [],
   "source": []
  }
 ],
 "metadata": {
  "kernelspec": {
   "display_name": "Python 3",
   "language": "python",
   "name": "python3"
  },
  "language_info": {
   "codemirror_mode": {
    "name": "ipython",
    "version": 3
   },
   "file_extension": ".py",
   "mimetype": "text/x-python",
   "name": "python",
   "nbconvert_exporter": "python",
   "pygments_lexer": "ipython3",
   "version": "3.6.6"
  }
 },
 "nbformat": 4,
 "nbformat_minor": 2
}
