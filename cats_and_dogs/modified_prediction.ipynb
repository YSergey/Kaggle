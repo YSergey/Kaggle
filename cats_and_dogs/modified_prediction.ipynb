{
 "cells": [
  {
   "cell_type": "code",
   "execution_count": 22,
   "metadata": {},
   "outputs": [],
   "source": [
    "import os, shutil\n",
    "\n",
    "base_dir = '/Volumes/KESU/dog_vs_cat'\n",
    "\n",
    "train_dir = os.path.join(base_dir, 'train')\n",
    "test_dir = os.path.join(base_dir, 'test')"
   ]
  },
  {
   "cell_type": "code",
   "execution_count": 23,
   "metadata": {},
   "outputs": [],
   "source": [
    "fnames_cat = ['cat.{}.jpg'.format(i) for i in range(12500)]\n",
    "fnames_dog = ['dog.{}.jpg'.format(i) for i in range(12500)]"
   ]
  },
  {
   "cell_type": "code",
   "execution_count": 24,
   "metadata": {},
   "outputs": [],
   "source": [
    "dataset = os.path.join(base_dir, 'dataset')\n",
    "os.mkdir(os.path.join(dataset, 'train'))\n",
    "os.mkdir(os.path.join(dataset, 'validation'))"
   ]
  },
  {
   "cell_type": "code",
   "execution_count": null,
   "metadata": {},
   "outputs": [],
   "source": [
    "print(os.path.join('./train',f))"
   ]
  },
  {
   "cell_type": "code",
   "execution_count": null,
   "metadata": {},
   "outputs": [],
   "source": [
    "#トレインデータの猫と犬を分ける\n",
    "import random\n",
    "import shutil\n",
    "\n",
    "print(os.path.join('./train',f))\n",
    "\n",
    "for f in fnames_cat:\n",
    "    if random.random() >= 0.2: \n",
    "        # 学習用フォルダへ移動\n",
    "        src = os.path.join(train_dir, f)\n",
    "        dst = os.path.join('./train',f)\n",
    "        shutil.copy(src,dst)\n",
    "    else:                      \n",
    "        src = os.path.join(train_dir,f)\n",
    "        dst = os.path.join('./validation',f)\n",
    "        shutil.copy(src,dst)"
   ]
  },
  {
   "cell_type": "code",
   "execution_count": null,
   "metadata": {},
   "outputs": [],
   "source": []
  }
 ],
 "metadata": {
  "kernelspec": {
   "display_name": "Python 3",
   "language": "python",
   "name": "python3"
  },
  "language_info": {
   "codemirror_mode": {
    "name": "ipython",
    "version": 3
   },
   "file_extension": ".py",
   "mimetype": "text/x-python",
   "name": "python",
   "nbconvert_exporter": "python",
   "pygments_lexer": "ipython3",
   "version": "3.6.6"
  }
 },
 "nbformat": 4,
 "nbformat_minor": 2
}
