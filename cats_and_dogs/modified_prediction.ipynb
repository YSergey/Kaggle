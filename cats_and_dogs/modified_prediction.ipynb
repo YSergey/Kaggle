{
 "cells": [
  {
   "cell_type": "code",
   "execution_count": 1,
   "metadata": {},
   "outputs": [],
   "source": [
    "import os, shutil\n",
    "\n",
    "base_dir = '/Volumes/KESU/dog_vs_cat'\n",
    "\n",
    "train_dir = os.path.join(base_dir, 'train')\n",
    "test_dir = os.path.join(base_dir, 'test')"
   ]
  },
  {
   "cell_type": "code",
   "execution_count": 2,
   "metadata": {},
   "outputs": [],
   "source": [
    "fnames_cat = ['cat.{}.jpg'.format(i) for i in range(12500)]\n",
    "fnames_dog = ['dog.{}.jpg'.format(i) for i in range(12500)]"
   ]
  },
  {
   "cell_type": "code",
   "execution_count": 3,
   "metadata": {},
   "outputs": [],
   "source": [
    "dataset = os.path.join(base_dir, 'dataset')\n",
    "os.mkdir(os.path.join(dataset, 'train'))\n",
    "os.mkdir(os.path.join(dataset, 'validation'))"
   ]
  },
  {
   "cell_type": "code",
   "execution_count": 4,
   "metadata": {
    "scrolled": true
   },
   "outputs": [],
   "source": [
    "train = os.path.join(dataset,'train')\n",
    "validation = os.path.join(dataset,'validation')"
   ]
  },
  {
   "cell_type": "code",
   "execution_count": 5,
   "metadata": {},
   "outputs": [],
   "source": [
    "#トレインデータとバリデーションデータに分ける\n",
    "import random\n",
    "import shutil\n",
    "\n",
    "for f in fnames_cat:\n",
    "    src = os.path.join(train_dir, f)\n",
    "    if random.random() >= 0.2: \n",
    "        dst = os.path.join(train,f)\n",
    "        shutil.copy(src,dst)\n",
    "    else:                      \n",
    "        src = os.path.join(train_dir,f)\n",
    "        dst = os.path.join(validation,f)\n",
    "        shutil.copy(src,dst)"
   ]
  },
  {
   "cell_type": "code",
   "execution_count": 8,
   "metadata": {},
   "outputs": [],
   "source": [
    "for f in fnames_dog:\n",
    "    src = os.path.join(train_dir,f)\n",
    "    if random.random() >= 0.2:\n",
    "        dst = os.path.join(train,f)\n",
    "        shutil.copy(src,dst)\n",
    "    else:\n",
    "        dst = os.path.join(validation,f)\n",
    "        shutil.copy(src,dst)"
   ]
  },
  {
   "cell_type": "code",
   "execution_count": 9,
   "metadata": {},
   "outputs": [
    {
     "name": "stdout",
     "output_type": "stream",
     "text": [
      "total training cat images 20097\n",
      "///////////////////////////////////////////////////\n",
      "total validation cat images 4903\n"
     ]
    }
   ],
   "source": [
    "print('total training cat images', len(os.listdir(train)))\n",
    "print('///////////////////////////////////////////////////')\n",
    "print('total validation cat images', len(os.listdir(validation)))"
   ]
  },
  {
   "cell_type": "code",
   "execution_count": null,
   "metadata": {},
   "outputs": [],
   "source": []
  }
 ],
 "metadata": {
  "kernelspec": {
   "display_name": "Python 3",
   "language": "python",
   "name": "python3"
  },
  "language_info": {
   "codemirror_mode": {
    "name": "ipython",
    "version": 3
   },
   "file_extension": ".py",
   "mimetype": "text/x-python",
   "name": "python",
   "nbconvert_exporter": "python",
   "pygments_lexer": "ipython3",
   "version": "3.6.6"
  }
 },
 "nbformat": 4,
 "nbformat_minor": 2
}
